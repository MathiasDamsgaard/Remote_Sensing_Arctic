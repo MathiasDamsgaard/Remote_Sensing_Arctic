{
 "cells": [
  {
   "cell_type": "code",
   "execution_count": 5,
   "metadata": {},
   "outputs": [
    {
     "name": "stdout",
     "output_type": "stream",
     "text": [
      "March ice area difference: 1656200 km2\n",
      "September ice area difference: 1986890 km2\n"
     ]
    }
   ],
   "source": [
    "m21_y = 14788800\n",
    "m79_y = 16445000\n",
    "m_diff = m79_y - m21_y\n",
    "\n",
    "s21_y = 5569150\n",
    "s79_y = 7556040\n",
    "s_diff = s79_y - s21_y\n",
    "\n",
    "print(f\"March ice area difference: {m_diff} km2\")\n",
    "print(f\"September ice area difference: {s_diff} km2\")"
   ]
  },
  {
   "cell_type": "code",
   "execution_count": 8,
   "metadata": {},
   "outputs": [
    {
     "name": "stdout",
     "output_type": "stream",
     "text": [
      "Year when the ice area will be 1 million km2: 2067.626693538528\n",
      "Years left until the ice area will be 1 million km2: 43.62669353852789\n"
     ]
    }
   ],
   "source": [
    "year = (1000000-1.6843*10**8)/-80976.9\n",
    "print(f\"Year when the ice area will be 1 million km2: {year}\")\n",
    "years_left = year - 2024\n",
    "print(f\"Years left until the ice area will be 1 million km2: {years_left}\")"
   ]
  }
 ],
 "metadata": {
  "kernelspec": {
   "display_name": "Python 3",
   "language": "python",
   "name": "python3"
  },
  "language_info": {
   "codemirror_mode": {
    "name": "ipython",
    "version": 3
   },
   "file_extension": ".py",
   "mimetype": "text/x-python",
   "name": "python",
   "nbconvert_exporter": "python",
   "pygments_lexer": "ipython3",
   "version": "3.11.3"
  }
 },
 "nbformat": 4,
 "nbformat_minor": 2
}
